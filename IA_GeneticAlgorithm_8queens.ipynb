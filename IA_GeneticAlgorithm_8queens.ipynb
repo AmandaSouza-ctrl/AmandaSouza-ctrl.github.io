{
  "nbformat": 4,
  "nbformat_minor": 0,
  "metadata": {
    "colab": {
      "provenance": [],
      "collapsed_sections": [],
      "include_colab_link": true
    },
    "kernelspec": {
      "name": "python3",
      "display_name": "Python 3"
    },
    "language_info": {
      "name": "python"
    }
  },
  "cells": [
    {
      "cell_type": "markdown",
      "metadata": {
        "id": "view-in-github",
        "colab_type": "text"
      },
      "source": [
        "<a href=\"https://colab.research.google.com/github/AmandaSouza-ctrl/AmandaSouza-ctrl.github.io/blob/master/IA_GeneticAlgorithm_8queens.ipynb\" target=\"_parent\"><img src=\"https://colab.research.google.com/assets/colab-badge.svg\" alt=\"Open In Colab\"/></a>"
      ]
    },
    {
      "cell_type": "markdown",
      "source": [
        "Teste de implementação em phyton do Algoritmo Genético.\n",
        "Obs.: "
      ],
      "metadata": {
        "id": "n8AwNSzzRWZ5"
      }
    },
    {
      "cell_type": "markdown",
      "source": [
        "# Algoritmo Genético\n",
        "## Para o problema das 8 rainhas"
      ],
      "metadata": {
        "id": "hX_HwCvidpyR"
      }
    },
    {
      "cell_type": "markdown",
      "source": [
        "## Importações"
      ],
      "metadata": {
        "id": "JzA1EYj1HC76"
      }
    },
    {
      "cell_type": "code",
      "source": [
        "import numpy as np\n",
        "from numpy import random"
      ],
      "metadata": {
        "id": "XkS2WmGGHGN2"
      },
      "execution_count": 1,
      "outputs": []
    },
    {
      "cell_type": "code",
      "source": [
        "#VT = [4,8,2,7,3,1,5,6]\n",
        "VT = [4,8,2,7,3,7,5,4]"
      ],
      "metadata": {
        "id": "m8MjDLwpnok8"
      },
      "execution_count": 2,
      "outputs": []
    },
    {
      "cell_type": "markdown",
      "source": [
        "## Funções Auxiliares"
      ],
      "metadata": {
        "id": "2nnjfm3TeGvW"
      }
    },
    {
      "cell_type": "markdown",
      "source": [
        "### Converte Vetor em Tabuleiro"
      ],
      "metadata": {
        "id": "yoQ2yrmAIoOW"
      }
    },
    {
      "cell_type": "code",
      "source": [
        "def converte_vetor_tabuleiro(VT):\n",
        "    '''\n",
        "    Recebe um vetor representando um tabuleiro\n",
        "    com N rainhas, uma por coluna e retorna \n",
        "    uma lista de lista de 0 e 1 representando\n",
        "    um tabuleiro com as rainhas.\n",
        "    '''\n",
        "    N = len(VT)\n",
        "\n",
        "    L = [0]*N\n",
        "    T = []\n",
        "    for i in range(N):\n",
        "        T += [L.copy()]\n",
        "\n",
        "    for lin in range(N):\n",
        "        for col in range(N):\n",
        "            if lin+1 == VT[col]:\n",
        "                T[lin][col] = 1\n",
        "\n",
        "    return T"
      ],
      "metadata": {
        "id": "8eO_wG3Enx64"
      },
      "execution_count": 4,
      "outputs": []
    },
    {
      "cell_type": "code",
      "source": [
        "converte_vetor_tabuleiro(VT)"
      ],
      "metadata": {
        "colab": {
          "base_uri": "https://localhost:8080/"
        },
        "id": "JA4nMhpNoHR1",
        "outputId": "41b153cd-64e1-4b5c-a85f-0b211d46c4b8"
      },
      "execution_count": 5,
      "outputs": [
        {
          "output_type": "execute_result",
          "data": {
            "text/plain": [
              "[[0, 0, 0, 0, 0, 0, 0, 0],\n",
              " [0, 0, 1, 0, 0, 0, 0, 0],\n",
              " [0, 0, 0, 0, 1, 0, 0, 0],\n",
              " [1, 0, 0, 0, 0, 0, 0, 1],\n",
              " [0, 0, 0, 0, 0, 0, 1, 0],\n",
              " [0, 0, 0, 0, 0, 0, 0, 0],\n",
              " [0, 0, 0, 1, 0, 1, 0, 0],\n",
              " [0, 1, 0, 0, 0, 0, 0, 0]]"
            ]
          },
          "metadata": {},
          "execution_count": 5
        }
      ]
    },
    {
      "cell_type": "markdown",
      "source": [
        "### Solução Aleatória"
      ],
      "metadata": {
        "id": "bbAFq9rsyR-f"
      }
    },
    {
      "cell_type": "code",
      "source": [
        "# Cria uma solucao inicial com as cidades em um ordem aleatoria\n",
        "def solucao_aleatoria(N):\n",
        "    rainhas = list(range(1, N+1))\n",
        "    solucao = []\n",
        "\n",
        "    # as 3 linhas abaixo não são estritamente necessarias, servem\n",
        "    # apenas para fixar a primeira cidade da lista na solução\n",
        "    rainha = rainhas[0]\n",
        "    solucao.append(rainha)\n",
        "    rainhas.remove(rainha)\n",
        "\n",
        "    for _ in range(1,len(rainhas)+1):\n",
        "        #print(_, rainhas, solucao)\n",
        "        rainha = random.choice(rainhas)\n",
        "\n",
        "        solucao.append(rainha)\n",
        "        rainhas.remove(rainha)\n",
        "\n",
        "    return solucao"
      ],
      "metadata": {
        "id": "5pnHjBx7ho_M"
      },
      "execution_count": 6,
      "outputs": []
    },
    {
      "cell_type": "code",
      "source": [
        "Pop = []\n",
        "for _ in range(20):\n",
        "    Pop += [solucao_aleatoria(8)]\n",
        "\n",
        "print(Pop)"
      ],
      "metadata": {
        "colab": {
          "base_uri": "https://localhost:8080/"
        },
        "id": "LDJkk_H0IzND",
        "outputId": "f506d56e-01d0-44cf-e061-72525ee544c8"
      },
      "execution_count": 7,
      "outputs": [
        {
          "output_type": "stream",
          "name": "stdout",
          "text": [
            "[[1, 6, 2, 8, 5, 3, 4, 7], [1, 2, 3, 8, 5, 6, 4, 7], [1, 5, 7, 6, 4, 8, 2, 3], [1, 3, 5, 8, 6, 7, 2, 4], [1, 7, 4, 3, 5, 2, 6, 8], [1, 4, 5, 3, 2, 6, 7, 8], [1, 4, 5, 6, 7, 8, 3, 2], [1, 5, 7, 3, 6, 8, 2, 4], [1, 7, 5, 4, 8, 2, 6, 3], [1, 2, 4, 7, 3, 5, 8, 6], [1, 3, 2, 6, 7, 4, 5, 8], [1, 5, 8, 6, 2, 7, 3, 4], [1, 8, 5, 6, 2, 4, 7, 3], [1, 7, 6, 5, 8, 4, 2, 3], [1, 3, 6, 4, 5, 8, 2, 7], [1, 2, 5, 4, 7, 6, 8, 3], [1, 2, 4, 8, 6, 5, 3, 7], [1, 7, 8, 5, 2, 6, 3, 4], [1, 7, 8, 5, 4, 3, 6, 2], [1, 4, 3, 6, 8, 5, 7, 2]]\n"
          ]
        }
      ]
    },
    {
      "cell_type": "markdown",
      "source": [
        "### Calcula custo (Fitness)"
      ],
      "metadata": {
        "id": "GUPKonQ4FVCZ"
      }
    },
    {
      "cell_type": "code",
      "source": [
        "def __conta_ataques_linhas(VT):\n",
        "    '''\n",
        "    Função que recebe um Vetor-Tabuleiro e\n",
        "    retorna o número de pares de rainhas se\n",
        "    atacando mutuamente nas linhas.\n",
        "    '''\n",
        "    ataques = 0\n",
        "    N = len(VT)\n",
        "    for col1 in range(N):\n",
        "        lin1 = VT[col1]\n",
        "        for col2 in range(col1+1, N):\n",
        "            lin2 = VT[col2]\n",
        "            if lin1==lin2:\n",
        "                ataques +=1\n",
        "    \n",
        "    return ataques"
      ],
      "metadata": {
        "id": "D25sedCPrrcg"
      },
      "execution_count": 8,
      "outputs": []
    },
    {
      "cell_type": "code",
      "source": [
        "__conta_ataques_linhas(VT)"
      ],
      "metadata": {
        "colab": {
          "base_uri": "https://localhost:8080/"
        },
        "id": "ippPbtD5sodj",
        "outputId": "fcae5d9a-dab2-447a-d9d7-8c629ff8be7b"
      },
      "execution_count": 9,
      "outputs": [
        {
          "output_type": "execute_result",
          "data": {
            "text/plain": [
              "2"
            ]
          },
          "metadata": {},
          "execution_count": 9
        }
      ]
    },
    {
      "cell_type": "code",
      "source": [
        "def __conta_ataques_diagonais(VT):\n",
        "    '''\n",
        "    Função que recebe um Vetor-Tabuleiro e\n",
        "    retorna o número de pares de rainhas se\n",
        "    atacando mutuamente nas diagonais.\n",
        "    '''\n",
        "    ataques = 0\n",
        "    N = len(VT)\n",
        "\n",
        "    for col1 in range(N):\n",
        "        lin1 = VT[col1]\n",
        "        for col2 in range(col1+1, N):\n",
        "            lin2 = VT[col2]\n",
        "\n",
        "            # diferenças entre as linhas e colunas\n",
        "            d1 = lin1-col1\n",
        "            d2 = lin2-col2\n",
        "\n",
        "            # somas das linhas e colunas\n",
        "            s1 = lin1+col1\n",
        "            s2 = lin2+col2\n",
        "\n",
        "            # condições para ataques nas diagonais\n",
        "            if d1==d2 or s1==s2:\n",
        "                ataques +=1\n",
        "                #print(f'({lin1},{col1+1}) ({lin2},{col2+1}) -->', ataques,\n",
        "                #      '<--', f'  -({d1:2},{d2:2})  +({s1:2},{s2:2})')\n",
        "    \n",
        "    return ataques"
      ],
      "metadata": {
        "id": "7F0jjrJosqgu"
      },
      "execution_count": 10,
      "outputs": []
    },
    {
      "cell_type": "code",
      "source": [
        "converte_vetor_tabuleiro(VT)"
      ],
      "metadata": {
        "colab": {
          "base_uri": "https://localhost:8080/"
        },
        "id": "ICrKqYbhkSQ1",
        "outputId": "fe5b405f-cb77-4ed0-c1e9-1b940ea8951d"
      },
      "execution_count": 11,
      "outputs": [
        {
          "output_type": "execute_result",
          "data": {
            "text/plain": [
              "[[0, 0, 0, 0, 0, 0, 0, 0],\n",
              " [0, 0, 1, 0, 0, 0, 0, 0],\n",
              " [0, 0, 0, 0, 1, 0, 0, 0],\n",
              " [1, 0, 0, 0, 0, 0, 0, 1],\n",
              " [0, 0, 0, 0, 0, 0, 1, 0],\n",
              " [0, 0, 0, 0, 0, 0, 0, 0],\n",
              " [0, 0, 0, 1, 0, 1, 0, 0],\n",
              " [0, 1, 0, 0, 0, 0, 0, 0]]"
            ]
          },
          "metadata": {},
          "execution_count": 11
        }
      ]
    },
    {
      "cell_type": "code",
      "source": [
        "__conta_ataques_diagonais(VT)"
      ],
      "metadata": {
        "colab": {
          "base_uri": "https://localhost:8080/"
        },
        "id": "mQ_9ze4cuIMW",
        "outputId": "7d14b64a-ad04-4f00-8bb2-fb81b0195056"
      },
      "execution_count": 13,
      "outputs": [
        {
          "output_type": "execute_result",
          "data": {
            "text/plain": [
              "4"
            ]
          },
          "metadata": {},
          "execution_count": 13
        }
      ]
    },
    {
      "cell_type": "code",
      "source": [
        "def conta_ataques(VT):\n",
        "    '''\n",
        "    Função que recebe um Vetor-Tabuleiro e\n",
        "    retorna o número de pares de rainhas se\n",
        "    atacando mutuamente nas linhas e diagonais.\n",
        "    '''\n",
        "    ataques  = __conta_ataques_linhas(VT)\n",
        "\n",
        "    ataques += __conta_ataques_diagonais(VT)\n",
        "\n",
        "    return ataques"
      ],
      "metadata": {
        "id": "8cTwjPfivq75"
      },
      "execution_count": 14,
      "outputs": []
    },
    {
      "cell_type": "code",
      "source": [
        "conta_ataques(VT)"
      ],
      "metadata": {
        "colab": {
          "base_uri": "https://localhost:8080/"
        },
        "id": "HiEykhZTuQEX",
        "outputId": "32cd89fb-29a8-43e3-e3ec-018e31f4ee34"
      },
      "execution_count": 15,
      "outputs": [
        {
          "output_type": "execute_result",
          "data": {
            "text/plain": [
              "6"
            ]
          },
          "metadata": {},
          "execution_count": 15
        }
      ]
    },
    {
      "cell_type": "code",
      "source": [
        "vizinhos = [\n",
        "      [1, 8, 2, 7, 3, 7, 5, 4],\n",
        "      [2, 8, 2, 7, 3, 7, 5, 4],\n",
        "      [3, 8, 2, 7, 3, 7, 5, 4],\n",
        "      [5, 8, 2, 7, 3, 7, 5, 4],\n",
        "      [6, 8, 2, 7, 3, 7, 5, 4],\n",
        "      [7, 8, 2, 7, 3, 7, 5, 4],\n",
        "      [8, 8, 2, 7, 3, 7, 5, 4],\n",
        "    ]"
      ],
      "metadata": {
        "id": "vbWJbicbxfbt"
      },
      "execution_count": 16,
      "outputs": []
    },
    {
      "cell_type": "code",
      "source": [
        "LT = []\n",
        "for vizinho in vizinhos:\n",
        "  #print(conta_ataques(vizinho), vizinho)\n",
        "  LT +=  [(conta_ataques(vizinho), vizinho) ]\n",
        "\n",
        "LT"
      ],
      "metadata": {
        "colab": {
          "base_uri": "https://localhost:8080/"
        },
        "id": "DD1hRoWNxjf-",
        "outputId": "9703b9f2-9313-4dc8-a971-fe4435e4713a"
      },
      "execution_count": 17,
      "outputs": [
        {
          "output_type": "execute_result",
          "data": {
            "text/plain": [
              "[(3, [1, 8, 2, 7, 3, 7, 5, 4]),\n",
              " (5, [2, 8, 2, 7, 3, 7, 5, 4]),\n",
              " (4, [3, 8, 2, 7, 3, 7, 5, 4]),\n",
              " (4, [5, 8, 2, 7, 3, 7, 5, 4]),\n",
              " (3, [6, 8, 2, 7, 3, 7, 5, 4]),\n",
              " (7, [7, 8, 2, 7, 3, 7, 5, 4]),\n",
              " (4, [8, 8, 2, 7, 3, 7, 5, 4])]"
            ]
          },
          "metadata": {},
          "execution_count": 17
        }
      ]
    },
    {
      "cell_type": "markdown",
      "source": [
        "### Gera vizinhos"
      ],
      "metadata": {
        "id": "ZHbNTMeCFlGJ"
      }
    },
    {
      "cell_type": "code",
      "source": [
        "def gera_vizinhos_old(VT):\n",
        "    vizinhos = []\n",
        "\n",
        "    N = len(VT)\n",
        "    for col in range(N):\n",
        "        for lin in range(N):\n",
        "            # se nao existe rainha naquela linha,\n",
        "            # entao gera estado vizinho.\n",
        "            linha = lin+1\n",
        "            if linha != VT[col]:\n",
        "                vizinho   = VT.copy()\n",
        "                vizinho[col] = linha\n",
        "                vizinhos += [vizinho]\n",
        "                #print(vizinho, VT)\n",
        "    return vizinhos"
      ],
      "metadata": {
        "id": "EqSC3PZsySAx"
      },
      "execution_count": 18,
      "outputs": []
    },
    {
      "cell_type": "code",
      "source": [
        "def gera_vizinhos(VT):\n",
        "\n",
        "    N = len(VT)\n",
        "    for col in range(N):\n",
        "        for lin in range(N):\n",
        "            # se nao existe rainha naquela linha,\n",
        "            # entao gera estado vizinho.\n",
        "            linha = lin+1\n",
        "            if linha != VT[col]:\n",
        "                vizinho   = VT.copy()\n",
        "                vizinho[col] = linha\n",
        "\n",
        "                yield vizinho\n"
      ],
      "metadata": {
        "id": "_gy9N3w4pl_x"
      },
      "execution_count": 19,
      "outputs": []
    },
    {
      "cell_type": "code",
      "source": [
        "vizinhos = gera_vizinhos_old(VT)\n",
        "vizinhos"
      ],
      "metadata": {
        "id": "tZ4dzZOdnLXQ"
      },
      "execution_count": null,
      "outputs": []
    },
    {
      "cell_type": "code",
      "source": [
        "list(gera_vizinhos(VT))"
      ],
      "metadata": {
        "colab": {
          "base_uri": "https://localhost:8080/"
        },
        "id": "hiGiqcWxqMTx",
        "outputId": "fe656db4-f718-4fe0-af8a-b26ac49dc8a9"
      },
      "execution_count": 21,
      "outputs": [
        {
          "output_type": "execute_result",
          "data": {
            "text/plain": [
              "[[1, 8, 2, 7, 3, 7, 5, 4],\n",
              " [2, 8, 2, 7, 3, 7, 5, 4],\n",
              " [3, 8, 2, 7, 3, 7, 5, 4],\n",
              " [5, 8, 2, 7, 3, 7, 5, 4],\n",
              " [6, 8, 2, 7, 3, 7, 5, 4],\n",
              " [7, 8, 2, 7, 3, 7, 5, 4],\n",
              " [8, 8, 2, 7, 3, 7, 5, 4],\n",
              " [4, 1, 2, 7, 3, 7, 5, 4],\n",
              " [4, 2, 2, 7, 3, 7, 5, 4],\n",
              " [4, 3, 2, 7, 3, 7, 5, 4],\n",
              " [4, 4, 2, 7, 3, 7, 5, 4],\n",
              " [4, 5, 2, 7, 3, 7, 5, 4],\n",
              " [4, 6, 2, 7, 3, 7, 5, 4],\n",
              " [4, 7, 2, 7, 3, 7, 5, 4],\n",
              " [4, 8, 1, 7, 3, 7, 5, 4],\n",
              " [4, 8, 3, 7, 3, 7, 5, 4],\n",
              " [4, 8, 4, 7, 3, 7, 5, 4],\n",
              " [4, 8, 5, 7, 3, 7, 5, 4],\n",
              " [4, 8, 6, 7, 3, 7, 5, 4],\n",
              " [4, 8, 7, 7, 3, 7, 5, 4],\n",
              " [4, 8, 8, 7, 3, 7, 5, 4],\n",
              " [4, 8, 2, 1, 3, 7, 5, 4],\n",
              " [4, 8, 2, 2, 3, 7, 5, 4],\n",
              " [4, 8, 2, 3, 3, 7, 5, 4],\n",
              " [4, 8, 2, 4, 3, 7, 5, 4],\n",
              " [4, 8, 2, 5, 3, 7, 5, 4],\n",
              " [4, 8, 2, 6, 3, 7, 5, 4],\n",
              " [4, 8, 2, 8, 3, 7, 5, 4],\n",
              " [4, 8, 2, 7, 1, 7, 5, 4],\n",
              " [4, 8, 2, 7, 2, 7, 5, 4],\n",
              " [4, 8, 2, 7, 4, 7, 5, 4],\n",
              " [4, 8, 2, 7, 5, 7, 5, 4],\n",
              " [4, 8, 2, 7, 6, 7, 5, 4],\n",
              " [4, 8, 2, 7, 7, 7, 5, 4],\n",
              " [4, 8, 2, 7, 8, 7, 5, 4],\n",
              " [4, 8, 2, 7, 3, 1, 5, 4],\n",
              " [4, 8, 2, 7, 3, 2, 5, 4],\n",
              " [4, 8, 2, 7, 3, 3, 5, 4],\n",
              " [4, 8, 2, 7, 3, 4, 5, 4],\n",
              " [4, 8, 2, 7, 3, 5, 5, 4],\n",
              " [4, 8, 2, 7, 3, 6, 5, 4],\n",
              " [4, 8, 2, 7, 3, 8, 5, 4],\n",
              " [4, 8, 2, 7, 3, 7, 1, 4],\n",
              " [4, 8, 2, 7, 3, 7, 2, 4],\n",
              " [4, 8, 2, 7, 3, 7, 3, 4],\n",
              " [4, 8, 2, 7, 3, 7, 4, 4],\n",
              " [4, 8, 2, 7, 3, 7, 6, 4],\n",
              " [4, 8, 2, 7, 3, 7, 7, 4],\n",
              " [4, 8, 2, 7, 3, 7, 8, 4],\n",
              " [4, 8, 2, 7, 3, 7, 5, 1],\n",
              " [4, 8, 2, 7, 3, 7, 5, 2],\n",
              " [4, 8, 2, 7, 3, 7, 5, 3],\n",
              " [4, 8, 2, 7, 3, 7, 5, 5],\n",
              " [4, 8, 2, 7, 3, 7, 5, 6],\n",
              " [4, 8, 2, 7, 3, 7, 5, 7],\n",
              " [4, 8, 2, 7, 3, 7, 5, 8]]"
            ]
          },
          "metadata": {},
          "execution_count": 21
        }
      ]
    },
    {
      "cell_type": "code",
      "source": [
        "list(gera_vizinhos(VT)) == vizinhos"
      ],
      "metadata": {
        "colab": {
          "base_uri": "https://localhost:8080/"
        },
        "id": "Em-NOl9Kpu2g",
        "outputId": "305a2114-8158-4494-dac6-64e7203cd607"
      },
      "execution_count": 22,
      "outputs": [
        {
          "output_type": "execute_result",
          "data": {
            "text/plain": [
              "True"
            ]
          },
          "metadata": {},
          "execution_count": 22
        }
      ]
    },
    {
      "cell_type": "markdown",
      "source": [
        "### Gera tuplas custos"
      ],
      "metadata": {
        "id": "sCLe99jUFrRp"
      }
    },
    {
      "cell_type": "code",
      "source": [
        "def gera_tuplas_custos(VT):\n",
        "    '''\n",
        "    Gera tuplas com os custos de todos os individuos da populacao.\n",
        "    '''\n",
        "    TuplasCustos = []\n",
        "    for individuo in gera_vizinhos(VT):\n",
        "        ataques = conta_ataques(individuo)\n",
        "        TuplasCustos += [(ataques, individuo)]\n",
        "\n",
        "    return TuplasCustos\n"
      ],
      "metadata": {
        "id": "jkIWxKldRJ4k"
      },
      "execution_count": 23,
      "outputs": []
    },
    {
      "cell_type": "code",
      "source": [
        "Populacao = gera_vizinhos(VT)\n",
        "Tuplas = gera_tuplas_custos(Populacao)\n",
        "Tuplas"
      ],
      "metadata": {
        "colab": {
          "base_uri": "https://localhost:8080/",
          "height": 345
        },
        "outputId": "72d447c5-744c-46ab-ef03-22c67520fa8d",
        "id": "v5c4129pRJ4l"
      },
      "execution_count": 27,
      "outputs": [
        {
          "output_type": "error",
          "ename": "TypeError",
          "evalue": "ignored",
          "traceback": [
            "\u001b[0;31m---------------------------------------------------------------------------\u001b[0m",
            "\u001b[0;31mTypeError\u001b[0m                                 Traceback (most recent call last)",
            "\u001b[0;32m<ipython-input-27-c526348c6f1e>\u001b[0m in \u001b[0;36m<module>\u001b[0;34m\u001b[0m\n\u001b[1;32m      1\u001b[0m \u001b[0mPopulacao\u001b[0m \u001b[0;34m=\u001b[0m \u001b[0mgera_vizinhos\u001b[0m\u001b[0;34m(\u001b[0m\u001b[0mVT\u001b[0m\u001b[0;34m)\u001b[0m\u001b[0;34m\u001b[0m\u001b[0;34m\u001b[0m\u001b[0m\n\u001b[0;32m----> 2\u001b[0;31m \u001b[0mTuplas\u001b[0m \u001b[0;34m=\u001b[0m \u001b[0mgera_tuplas_custos\u001b[0m\u001b[0;34m(\u001b[0m\u001b[0mPopulacao\u001b[0m\u001b[0;34m)\u001b[0m\u001b[0;34m\u001b[0m\u001b[0;34m\u001b[0m\u001b[0m\n\u001b[0m\u001b[1;32m      3\u001b[0m \u001b[0mTuplas\u001b[0m\u001b[0;34m\u001b[0m\u001b[0;34m\u001b[0m\u001b[0m\n",
            "\u001b[0;32m<ipython-input-23-ac0ae6e539b8>\u001b[0m in \u001b[0;36mgera_tuplas_custos\u001b[0;34m(VT)\u001b[0m\n\u001b[1;32m      4\u001b[0m     '''\n\u001b[1;32m      5\u001b[0m     \u001b[0mTuplasCustos\u001b[0m \u001b[0;34m=\u001b[0m \u001b[0;34m[\u001b[0m\u001b[0;34m]\u001b[0m\u001b[0;34m\u001b[0m\u001b[0;34m\u001b[0m\u001b[0m\n\u001b[0;32m----> 6\u001b[0;31m     \u001b[0;32mfor\u001b[0m \u001b[0mindividuo\u001b[0m \u001b[0;32min\u001b[0m \u001b[0mgera_vizinhos\u001b[0m\u001b[0;34m(\u001b[0m\u001b[0mVT\u001b[0m\u001b[0;34m)\u001b[0m\u001b[0;34m:\u001b[0m\u001b[0;34m\u001b[0m\u001b[0;34m\u001b[0m\u001b[0m\n\u001b[0m\u001b[1;32m      7\u001b[0m         \u001b[0mataques\u001b[0m \u001b[0;34m=\u001b[0m \u001b[0mconta_ataques\u001b[0m\u001b[0;34m(\u001b[0m\u001b[0mindividuo\u001b[0m\u001b[0;34m)\u001b[0m\u001b[0;34m\u001b[0m\u001b[0;34m\u001b[0m\u001b[0m\n\u001b[1;32m      8\u001b[0m         \u001b[0mTuplasCustos\u001b[0m \u001b[0;34m+=\u001b[0m \u001b[0;34m[\u001b[0m\u001b[0;34m(\u001b[0m\u001b[0mataques\u001b[0m\u001b[0;34m,\u001b[0m \u001b[0mindividuo\u001b[0m\u001b[0;34m)\u001b[0m\u001b[0;34m]\u001b[0m\u001b[0;34m\u001b[0m\u001b[0;34m\u001b[0m\u001b[0m\n",
            "\u001b[0;32m<ipython-input-19-4fde686b2161>\u001b[0m in \u001b[0;36mgera_vizinhos\u001b[0;34m(VT)\u001b[0m\n\u001b[1;32m      1\u001b[0m \u001b[0;32mdef\u001b[0m \u001b[0mgera_vizinhos\u001b[0m\u001b[0;34m(\u001b[0m\u001b[0mVT\u001b[0m\u001b[0;34m)\u001b[0m\u001b[0;34m:\u001b[0m\u001b[0;34m\u001b[0m\u001b[0;34m\u001b[0m\u001b[0m\n\u001b[1;32m      2\u001b[0m \u001b[0;34m\u001b[0m\u001b[0m\n\u001b[0;32m----> 3\u001b[0;31m     \u001b[0mN\u001b[0m \u001b[0;34m=\u001b[0m \u001b[0mlen\u001b[0m\u001b[0;34m(\u001b[0m\u001b[0mVT\u001b[0m\u001b[0;34m)\u001b[0m\u001b[0;34m\u001b[0m\u001b[0;34m\u001b[0m\u001b[0m\n\u001b[0m\u001b[1;32m      4\u001b[0m     \u001b[0;32mfor\u001b[0m \u001b[0mcol\u001b[0m \u001b[0;32min\u001b[0m \u001b[0mrange\u001b[0m\u001b[0;34m(\u001b[0m\u001b[0mN\u001b[0m\u001b[0;34m)\u001b[0m\u001b[0;34m:\u001b[0m\u001b[0;34m\u001b[0m\u001b[0;34m\u001b[0m\u001b[0m\n\u001b[1;32m      5\u001b[0m         \u001b[0;32mfor\u001b[0m \u001b[0mlin\u001b[0m \u001b[0;32min\u001b[0m \u001b[0mrange\u001b[0m\u001b[0;34m(\u001b[0m\u001b[0mN\u001b[0m\u001b[0;34m)\u001b[0m\u001b[0;34m:\u001b[0m\u001b[0;34m\u001b[0m\u001b[0;34m\u001b[0m\u001b[0m\n",
            "\u001b[0;31mTypeError\u001b[0m: object of type 'generator' has no len()"
          ]
        }
      ]
    },
    {
      "cell_type": "code",
      "source": [
        "sorted(Tuplas, key=lambda k: k[0])"
      ],
      "metadata": {
        "colab": {
          "base_uri": "https://localhost:8080/",
          "height": 165
        },
        "id": "awxLMBkosD-O",
        "outputId": "dcbba750-1718-4c6c-e20a-5edf23a8f8eb"
      },
      "execution_count": 26,
      "outputs": [
        {
          "output_type": "error",
          "ename": "NameError",
          "evalue": "ignored",
          "traceback": [
            "\u001b[0;31m---------------------------------------------------------------------------\u001b[0m",
            "\u001b[0;31mNameError\u001b[0m                                 Traceback (most recent call last)",
            "\u001b[0;32m<ipython-input-26-a5a5e017248c>\u001b[0m in \u001b[0;36m<module>\u001b[0;34m\u001b[0m\n\u001b[0;32m----> 1\u001b[0;31m \u001b[0msorted\u001b[0m\u001b[0;34m(\u001b[0m\u001b[0mTuplas\u001b[0m\u001b[0;34m,\u001b[0m \u001b[0mkey\u001b[0m\u001b[0;34m=\u001b[0m\u001b[0;32mlambda\u001b[0m \u001b[0mk\u001b[0m\u001b[0;34m:\u001b[0m \u001b[0mk\u001b[0m\u001b[0;34m[\u001b[0m\u001b[0;36m0\u001b[0m\u001b[0;34m]\u001b[0m\u001b[0;34m)\u001b[0m\u001b[0;34m\u001b[0m\u001b[0;34m\u001b[0m\u001b[0m\n\u001b[0m",
            "\u001b[0;31mNameError\u001b[0m: name 'Tuplas' is not defined"
          ]
        }
      ]
    },
    {
      "cell_type": "code",
      "source": [
        "np.random.rand()"
      ],
      "metadata": {
        "colab": {
          "base_uri": "https://localhost:8080/"
        },
        "id": "5Ylejfi3TJzI",
        "outputId": "80bb10f2-df20-4201-d080-5b2f0f60b9f3"
      },
      "execution_count": null,
      "outputs": [
        {
          "output_type": "execute_result",
          "data": {
            "text/plain": [
              "False"
            ]
          },
          "metadata": {},
          "execution_count": 12
        }
      ]
    },
    {
      "cell_type": "code",
      "source": [
        "s = 0\n",
        "N=100000\n",
        "for i in range(N):\n",
        "    if np.random.rand() < 0.30:\n",
        "        s += 1\n",
        "\n",
        "print(s/N)"
      ],
      "metadata": {
        "colab": {
          "base_uri": "https://localhost:8080/"
        },
        "id": "HbyYFyM4smv-",
        "outputId": "ae84598a-84f0-4de6-c026-78f42b6ba55e"
      },
      "execution_count": null,
      "outputs": [
        {
          "output_type": "stream",
          "name": "stdout",
          "text": [
            "0.29953\n"
          ]
        }
      ]
    },
    {
      "cell_type": "markdown",
      "source": [
        "## Funções Auxiliares - AG"
      ],
      "metadata": {
        "id": "3tg4XhiiHrNG"
      }
    },
    {
      "cell_type": "markdown",
      "source": [
        "### Mutação"
      ],
      "metadata": {
        "id": "uUcQwNvpFzlp"
      }
    },
    {
      "cell_type": "code",
      "source": [
        "def mutacao(VT, p_mutacao=0.30):\n",
        "\n",
        "    VT_mutated = VT.copy()\n",
        "\n",
        "    N = len(VT)\n",
        "    p = np.random.rand()\n",
        "\n",
        "    if p < p_mutacao:\n",
        "        col   = np.random.randint(0,N)    # indice da coluna (base-0)\n",
        "        linha = np.random.randint(1,N+1)  # valor da linha   (base-1)\n",
        "\n",
        "        VT_mutated[col] = linha\n",
        "        #print(col+1, linha)\n",
        "\n",
        "    return VT_mutated"
      ],
      "metadata": {
        "id": "nUXJydQWsSud"
      },
      "execution_count": null,
      "outputs": []
    },
    {
      "cell_type": "code",
      "source": [
        "VT2 = mutacao(VT)\n",
        "VT, VT2, VT != VT2"
      ],
      "metadata": {
        "colab": {
          "base_uri": "https://localhost:8080/"
        },
        "id": "6GIV1pitubsc",
        "outputId": "a2c3bae8-cf0c-4c26-82da-1c41ef3195e5"
      },
      "execution_count": null,
      "outputs": [
        {
          "output_type": "execute_result",
          "data": {
            "text/plain": [
              "([4, 8, 2, 7, 3, 7, 5, 4], [4, 8, 2, 7, 3, 2, 5, 4], True)"
            ]
          },
          "metadata": {},
          "execution_count": 22
        }
      ]
    },
    {
      "cell_type": "markdown",
      "source": [
        "### Crossover"
      ],
      "metadata": {
        "id": "q7q7CoFuF1w5"
      }
    },
    {
      "cell_type": "code",
      "source": [],
      "metadata": {
        "id": "oGu3Oko3Up92"
      },
      "execution_count": null,
      "outputs": []
    },
    {
      "cell_type": "code",
      "source": [
        "def crossover(Parent1, Parent2):\n",
        "\n",
        "    N = len(Parent1)\n",
        "\n",
        "    # ponto de corte\n",
        "    c = np.random.randint(1, N-1)\n",
        "\n",
        "    # crossover no ponto de corte\n",
        "    # gerando dois filhos\n",
        "    child1 = Parent1[:c] + Parent2[c:]\n",
        "    child2 = Parent2[:c] + Parent1[c:]\n",
        "\n",
        "    return child1, child2"
      ],
      "metadata": {
        "id": "3sIPZcHxudG8"
      },
      "execution_count": null,
      "outputs": []
    },
    {
      "cell_type": "code",
      "source": [
        "VT1 = [1,1,1,1,1,1,1,1]\n",
        "VT2 = [2,2,2,2,2,2,2,2]"
      ],
      "metadata": {
        "id": "N0mrZDKpytgY"
      },
      "execution_count": null,
      "outputs": []
    },
    {
      "cell_type": "code",
      "source": [
        "# Exemplo de slice ocm dois pontos de corte\n",
        "# Gera dois filhos misturando os vetores 1 e 2\n",
        "VT1[:3] + VT2[3:6] + VT1[6:], VT2[:3] + VT1[3:6] + VT2[6:]"
      ],
      "metadata": {
        "colab": {
          "base_uri": "https://localhost:8080/"
        },
        "id": "Q_K603r5PfRN",
        "outputId": "b4ad980f-9ffa-42c1-ee45-69a3aeeb7ca2"
      },
      "execution_count": null,
      "outputs": [
        {
          "output_type": "execute_result",
          "data": {
            "text/plain": [
              "([1, 1, 1, 2, 2, 2, 1, 1], [2, 2, 2, 1, 1, 1, 2, 2])"
            ]
          },
          "metadata": {},
          "execution_count": 54
        }
      ]
    },
    {
      "cell_type": "code",
      "source": [
        "crossover(VT1,VT2)"
      ],
      "metadata": {
        "colab": {
          "base_uri": "https://localhost:8080/"
        },
        "id": "BmFkqSaVyluH",
        "outputId": "e3df7bd0-b192-4aad-9950-6349b71530d6"
      },
      "execution_count": null,
      "outputs": [
        {
          "output_type": "execute_result",
          "data": {
            "text/plain": [
              "([1, 1, 2, 2, 2, 2, 2, 2], [2, 2, 1, 1, 1, 1, 1, 1])"
            ]
          },
          "metadata": {},
          "execution_count": 55
        }
      ]
    },
    {
      "cell_type": "markdown",
      "source": [
        "### Seleciona pais"
      ],
      "metadata": {
        "id": "1aG6C4zLF4kp"
      }
    },
    {
      "cell_type": "code",
      "source": [
        "def _selecao(Candidato1, Candidato2):\n",
        "    a1 = conta_ataques(Candidato1)\n",
        "    a2 = conta_ataques(Candidato2)\n",
        "    #print(a1,a2)\n",
        "\n",
        "    # eleito o candidato com menor custo\n",
        "    eleito = Candidato1 if a1<=a2 else Candidato2\n",
        "\n",
        "    return eleito"
      ],
      "metadata": {
        "id": "USJeP4eIy0qX"
      },
      "execution_count": null,
      "outputs": []
    },
    {
      "cell_type": "code",
      "source": [
        "_selecao(VT1,VT2)"
      ],
      "metadata": {
        "colab": {
          "base_uri": "https://localhost:8080/"
        },
        "id": "oYMetv5Yzfsl",
        "outputId": "90d4a045-6ccf-4ad5-ab53-8bb29757c597"
      },
      "execution_count": null,
      "outputs": [
        {
          "output_type": "execute_result",
          "data": {
            "text/plain": [
              "[1, 1, 1, 1, 1, 1, 1, 1]"
            ]
          },
          "metadata": {},
          "execution_count": 66
        }
      ]
    },
    {
      "cell_type": "markdown",
      "source": [
        "## Algoritmo Genético - Implementação"
      ],
      "metadata": {
        "id": "l5_i1oumHeHq"
      }
    },
    {
      "cell_type": "code",
      "source": [
        "def algoritmo_genetico():\n",
        "    # pseudo-código:\n",
        "\n",
        "    # START\n",
        "    # Generate the initial population\n",
        "    # Compute fitness\n",
        "    # REPEAT\n",
        "    #     Selection\n",
        "    #     Crossover\n",
        "    #     Mutation\n",
        "    #     Compute fitness\n",
        "    # UNTIL population has converged\n",
        "    # STOP\n",
        "\n",
        "    # coloque seu código aqui\n",
        "    pass"
      ],
      "metadata": {
        "id": "fXiT7YVFJLC5"
      },
      "execution_count": null,
      "outputs": []
    },
    {
      "cell_type": "markdown",
      "source": [
        "### Rascunho - operações de conjuntos em Python"
      ],
      "metadata": {
        "id": "ynvmbvBIT-qE"
      }
    },
    {
      "cell_type": "code",
      "source": [
        "# Operações de conjuntos em Python\n",
        "\n",
        "A = set([1,2,3,4,5])\n",
        "B = set([4,5,6,7,8])"
      ],
      "metadata": {
        "id": "REdAn3qRT5t6"
      },
      "execution_count": null,
      "outputs": []
    },
    {
      "cell_type": "code",
      "source": [
        "A & B"
      ],
      "metadata": {
        "colab": {
          "base_uri": "https://localhost:8080/"
        },
        "id": "wgrfjZecUUA5",
        "outputId": "d228d17c-3353-4497-882f-6211d12a869a"
      },
      "execution_count": null,
      "outputs": [
        {
          "output_type": "execute_result",
          "data": {
            "text/plain": [
              "{4, 5}"
            ]
          },
          "metadata": {},
          "execution_count": 34
        }
      ]
    },
    {
      "cell_type": "code",
      "source": [
        "A | B"
      ],
      "metadata": {
        "colab": {
          "base_uri": "https://localhost:8080/"
        },
        "id": "g132c3YYUZ-6",
        "outputId": "37695d2b-c16f-46c0-8a1f-0ef5d266559c"
      },
      "execution_count": null,
      "outputs": [
        {
          "output_type": "execute_result",
          "data": {
            "text/plain": [
              "{1, 2, 3, 4, 5, 6, 7, 8}"
            ]
          },
          "metadata": {},
          "execution_count": 35
        }
      ]
    },
    {
      "cell_type": "code",
      "source": [
        "A - B"
      ],
      "metadata": {
        "colab": {
          "base_uri": "https://localhost:8080/"
        },
        "id": "wRI6sd5AUdj1",
        "outputId": "9567add0-2986-42f9-9e00-3c6c3fecba55"
      },
      "execution_count": null,
      "outputs": [
        {
          "output_type": "execute_result",
          "data": {
            "text/plain": [
              "{1, 2, 3}"
            ]
          },
          "metadata": {},
          "execution_count": 36
        }
      ]
    },
    {
      "cell_type": "code",
      "source": [
        "B - A"
      ],
      "metadata": {
        "colab": {
          "base_uri": "https://localhost:8080/"
        },
        "id": "Q1HgMd3aUlBJ",
        "outputId": "e6632f3e-1496-4c61-8fc8-45f85148acec"
      },
      "execution_count": null,
      "outputs": [
        {
          "output_type": "execute_result",
          "data": {
            "text/plain": [
              "{6, 7, 8}"
            ]
          },
          "metadata": {},
          "execution_count": 37
        }
      ]
    },
    {
      "cell_type": "code",
      "source": [
        "C = A & B\n",
        "C"
      ],
      "metadata": {
        "colab": {
          "base_uri": "https://localhost:8080/"
        },
        "id": "ycw6j2DzUoGw",
        "outputId": "3275c709-7145-40ce-a038-78c7d7521252"
      },
      "execution_count": null,
      "outputs": [
        {
          "output_type": "execute_result",
          "data": {
            "text/plain": [
              "{4, 5}"
            ]
          },
          "metadata": {},
          "execution_count": 38
        }
      ]
    },
    {
      "cell_type": "code",
      "source": [
        "4 in C"
      ],
      "metadata": {
        "colab": {
          "base_uri": "https://localhost:8080/"
        },
        "id": "lHO_7FkzUul2",
        "outputId": "41ed8a62-442a-4867-abc0-5c248734f910"
      },
      "execution_count": null,
      "outputs": [
        {
          "output_type": "execute_result",
          "data": {
            "text/plain": [
              "True"
            ]
          },
          "metadata": {},
          "execution_count": 40
        }
      ]
    },
    {
      "cell_type": "code",
      "source": [
        "P1 = solucao_aleatoria(8)\n",
        "P2 = solucao_aleatoria(8)\n",
        "P1, P2"
      ],
      "metadata": {
        "colab": {
          "base_uri": "https://localhost:8080/"
        },
        "id": "pbBmVz5GUzyv",
        "outputId": "a8416233-ed93-45cf-ceed-842c1dd7c13b"
      },
      "execution_count": null,
      "outputs": [
        {
          "output_type": "execute_result",
          "data": {
            "text/plain": [
              "([1, 2, 7, 3, 5, 6, 4, 8], [1, 4, 2, 5, 6, 8, 3, 7])"
            ]
          },
          "metadata": {},
          "execution_count": 48
        }
      ]
    },
    {
      "cell_type": "code",
      "source": [
        "S1 = set(P1[2:6])\n",
        "S1"
      ],
      "metadata": {
        "colab": {
          "base_uri": "https://localhost:8080/"
        },
        "id": "eN0JkBmqVGrO",
        "outputId": "09a5f27f-e8cb-46df-b766-445999216cb2"
      },
      "execution_count": null,
      "outputs": [
        {
          "output_type": "execute_result",
          "data": {
            "text/plain": [
              "{3, 5, 6, 7}"
            ]
          },
          "metadata": {},
          "execution_count": 54
        }
      ]
    },
    {
      "cell_type": "code",
      "source": [],
      "metadata": {
        "id": "YY5rc8RwWdMf"
      },
      "execution_count": null,
      "outputs": []
    },
    {
      "cell_type": "code",
      "source": [
        "L = list(range(10000000))\n",
        "S = set(L)"
      ],
      "metadata": {
        "id": "vjVQkIGfXiwS"
      },
      "execution_count": null,
      "outputs": []
    },
    {
      "cell_type": "code",
      "source": [
        "10000000-1"
      ],
      "metadata": {
        "colab": {
          "base_uri": "https://localhost:8080/"
        },
        "id": "hqTPWYmoXwJl",
        "outputId": "c8f733f8-a64f-4232-ff3d-df28971421a2"
      },
      "execution_count": null,
      "outputs": [
        {
          "output_type": "execute_result",
          "data": {
            "text/plain": [
              "9999999"
            ]
          },
          "metadata": {},
          "execution_count": 58
        }
      ]
    },
    {
      "cell_type": "code",
      "source": [
        "%timeit 9999999 in L"
      ],
      "metadata": {
        "colab": {
          "base_uri": "https://localhost:8080/"
        },
        "id": "cloujF7tXoEv",
        "outputId": "aeefa65e-1160-4fdb-8cfd-d68c677dada3"
      },
      "execution_count": null,
      "outputs": [
        {
          "output_type": "stream",
          "name": "stdout",
          "text": [
            "149 ms ± 4.89 ms per loop (mean ± std. dev. of 7 runs, 1 loop each)\n"
          ]
        }
      ]
    },
    {
      "cell_type": "code",
      "source": [
        "%timeit 9999999 in S"
      ],
      "metadata": {
        "colab": {
          "base_uri": "https://localhost:8080/"
        },
        "id": "8XEtaTzSXzbo",
        "outputId": "56a437a9-6b70-43d2-f11e-94045d834847"
      },
      "execution_count": null,
      "outputs": [
        {
          "output_type": "stream",
          "name": "stdout",
          "text": [
            "67.1 ns ± 0.62 ns per loop (mean ± std. dev. of 7 runs, 10000000 loops each)\n"
          ]
        }
      ]
    },
    {
      "cell_type": "code",
      "source": [],
      "metadata": {
        "id": "SgYLqcU2X3_G"
      },
      "execution_count": null,
      "outputs": []
    }
  ]
}